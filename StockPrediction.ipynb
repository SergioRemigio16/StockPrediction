{
  "nbformat": 4,
  "nbformat_minor": 0,
  "metadata": {
    "colab": {
      "provenance": [],
      "toc_visible": true,
      "authorship_tag": "ABX9TyNAhXs1dCoTQHeZAxKmnU5N",
      "include_colab_link": true
    },
    "kernelspec": {
      "name": "python3",
      "display_name": "Python 3"
    },
    "language_info": {
      "name": "python"
    }
  },
  "cells": [
    {
      "cell_type": "markdown",
      "metadata": {
        "id": "view-in-github",
        "colab_type": "text"
      },
      "source": [
        "<a href=\"https://colab.research.google.com/github/SergioRemigio16/StockPrediction/blob/main/StockPrediction.ipynb\" target=\"_parent\"><img src=\"https://colab.research.google.com/assets/colab-badge.svg\" alt=\"Open In Colab\"/></a>"
      ]
    },
    {
      "cell_type": "markdown",
      "source": [
        "### Collecting Data Set\n",
        "\n",
        "\n"
      ],
      "metadata": {
        "id": "d8QgEkthiWdT"
      }
    },
    {
      "cell_type": "markdown",
      "source": [
        "#### Historical Numerical Stock Data\n",
        "\n"
      ],
      "metadata": {
        "id": "N0Op1MWBibW-"
      }
    },
    {
      "cell_type": "markdown",
      "source": [
        "#### Stock News Data"
      ],
      "metadata": {
        "id": "erGMAngAibrV"
      }
    },
    {
      "cell_type": "markdown",
      "source": [
        "### Data Pre-Precessing "
      ],
      "metadata": {
        "id": "guCqmSUnib22"
      }
    },
    {
      "cell_type": "markdown",
      "source": [
        "### Polarity based Detection of Stock News Data"
      ],
      "metadata": {
        "id": "gYuAyUyLicHm"
      }
    },
    {
      "cell_type": "markdown",
      "source": [
        "### Classifier Learning"
      ],
      "metadata": {
        "id": "HPKx_76wicT_"
      }
    },
    {
      "cell_type": "markdown",
      "source": [
        "### Feature Extraction"
      ],
      "metadata": {
        "id": "rJ-aDMWhicfk"
      }
    },
    {
      "cell_type": "markdown",
      "source": [
        "### Sentiment Analysis of News Data Set"
      ],
      "metadata": {
        "id": "b6vcvtFaicrP"
      }
    },
    {
      "cell_type": "markdown",
      "source": [
        "### Stock Market Movement"
      ],
      "metadata": {
        "id": "5SJZjKmAkkLD"
      }
    },
    {
      "cell_type": "markdown",
      "source": [
        "### Accuracy of Stock Data from News"
      ],
      "metadata": {
        "id": "05Ohdujbkka_"
      }
    },
    {
      "cell_type": "markdown",
      "source": [
        "### Stock Moving Average Calculation"
      ],
      "metadata": {
        "id": "SAHp9Nb8klF4"
      }
    },
    {
      "cell_type": "markdown",
      "source": [
        "### Future Trend for Stock (Buy/Sell)"
      ],
      "metadata": {
        "id": "bqJgG0q-klTi"
      }
    }
  ]
}